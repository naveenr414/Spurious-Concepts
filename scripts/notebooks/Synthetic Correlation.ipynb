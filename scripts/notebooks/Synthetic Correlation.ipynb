{
 "cells": [
  {
   "cell_type": "code",
   "execution_count": 1,
   "metadata": {},
   "outputs": [],
   "source": [
    "%load_ext autoreload\n",
    "%autoreload 2"
   ]
  },
  {
   "cell_type": "code",
   "execution_count": 2,
   "metadata": {},
   "outputs": [],
   "source": [
    "import sys\n",
    "sys.path.append('/usr0/home/naveenr/projects/spurious_concepts/ConceptBottleneck/')\n",
    "sys.path.append('/usr0/home/naveenr/projects/spurious_concepts')"
   ]
  },
  {
   "cell_type": "code",
   "execution_count": 3,
   "metadata": {},
   "outputs": [
    {
     "name": "stderr",
     "output_type": "stream",
     "text": [
      "/usr0/home/naveenr/miniconda3/envs/concepts_spurious/lib/python3.7/site-packages/tqdm/auto.py:21: TqdmWarning: IProgress not found. Please update jupyter and ipywidgets. See https://ipywidgets.readthedocs.io/en/stable/user_install.html\n",
      "  from .autonotebook import tqdm as notebook_tqdm\n"
     ]
    }
   ],
   "source": [
    "import torch\n",
    "from sklearn.metrics import roc_auc_score\n",
    "from sklearn.neural_network import MLPClassifier\n",
    "import torch.nn as nn\n",
    "import torch.optim as optim\n",
    "import pickle\n",
    "import matplotlib.pyplot as plt\n",
    "import torch.nn.functional as F\n",
    "from PIL import Image\n",
    "from captum.attr import visualization as viz\n",
    "from matplotlib.colors import LinearSegmentedColormap\n",
    "import cv2\n",
    "from copy import copy \n",
    "import itertools\n",
    "import json\n",
    "import argparse \n",
    "import secrets\n",
    "import subprocess\n",
    "import shutil \n",
    "from torch.nn.utils import prune\n",
    "import resource "
   ]
  },
  {
   "cell_type": "code",
   "execution_count": 4,
   "metadata": {},
   "outputs": [],
   "source": [
    "from src.images import *\n",
    "from src.util import *\n",
    "from src.models import *\n",
    "from src.plot import *"
   ]
  },
  {
   "cell_type": "code",
   "execution_count": 5,
   "metadata": {},
   "outputs": [],
   "source": [
    "torch.set_num_threads(1)"
   ]
  },
  {
   "cell_type": "code",
   "execution_count": 6,
   "metadata": {},
   "outputs": [
    {
     "name": "stdout",
     "output_type": "stream",
     "text": [
      "{'seed': 42, 'encoder_model': 'small7', 'debugging': False, 'dataset_name': 'synthetic_object/synthetic_4', 'num_concept_combinations': 8}\n"
     ]
    }
   ],
   "source": [
    "is_jupyter = 'ipykernel' in sys.modules\n",
    "if is_jupyter:\n",
    "    encoder_model='small7'\n",
    "    seed = 42\n",
    "    num_concept_combinations = 8\n",
    "\n",
    "    num_objects = 4\n",
    "else:\n",
    "    parser = argparse.ArgumentParser(description=\"Synthetic Dataset Experiments\")\n",
    "\n",
    "\n",
    "    parser.add_argument('--encoder_model', type=str, default='small3', help='Encoder model')\n",
    "    parser.add_argument('--seed', type=int, default=42, help='Random seed')\n",
    "    parser.add_argument('--num_concept_combinations', type=int, default=1, help='Number of concept combinations')\n",
    "    parser.add_argument('--num_objects', type=int, default=4, help='Number of objects/which synthetic dataset')\n",
    "\n",
    "    args = parser.parse_args()\n",
    "    encoder_model = args.encoder_model \n",
    "    seed = args.seed \n",
    "    num_concept_combinations = args.num_concept_combinations \n",
    "    num_objects = args.num_objects\n",
    "\n",
    "dataset_name = \"synthetic_object/synthetic_{}\".format(num_objects)\n",
    "\n",
    "parameters = {\n",
    "    'seed': seed, \n",
    "    'encoder_model': encoder_model ,\n",
    "    'debugging': False,\n",
    "    'dataset_name': dataset_name,\n",
    "    'num_concept_combinations': num_concept_combinations\n",
    "}\n",
    "print(parameters)\n",
    "torch.cuda.set_per_process_memory_fraction(0.5)\n",
    "resource.setrlimit(resource.RLIMIT_AS, (20 * 1024 * 1024 * 1024, -1))\n"
   ]
  },
  {
   "cell_type": "code",
   "execution_count": 7,
   "metadata": {},
   "outputs": [],
   "source": [
    "np.random.seed(seed)\n",
    "torch.manual_seed(seed)\n",
    "random.seed(seed)"
   ]
  },
  {
   "cell_type": "code",
   "execution_count": 8,
   "metadata": {},
   "outputs": [],
   "source": [
    "train_loader, val_loader, test_loader, train_pkl, val_pkl, test_pkl = get_data(num_objects,encoder_model=encoder_model,dataset_name=dataset_name)"
   ]
  },
  {
   "cell_type": "code",
   "execution_count": 9,
   "metadata": {},
   "outputs": [],
   "source": [
    "test_images, test_y, test_c = unroll_data(test_loader)"
   ]
  },
  {
   "cell_type": "code",
   "execution_count": 10,
   "metadata": {},
   "outputs": [],
   "source": [
    "device = 'cuda' if torch.cuda.is_available() else 'cpu'"
   ]
  },
  {
   "cell_type": "code",
   "execution_count": 11,
   "metadata": {},
   "outputs": [],
   "source": [
    "def generate_random_combinations(L, K):\n",
    "    random.seed(seed)    \n",
    "    # Generate all possible combinations\n",
    "    all_combinations = list(itertools.product([0, 1], repeat=L))\n",
    "    random.shuffle(all_combinations)\n",
    "\n",
    "    return all_combinations[:K]"
   ]
  },
  {
   "cell_type": "code",
   "execution_count": 12,
   "metadata": {},
   "outputs": [],
   "source": [
    "random_combinations = generate_random_combinations(num_objects,num_concept_combinations)\n",
    "random_full_combinations = []\n",
    "for c in random_combinations:\n",
    "    random_full_combinations.append([])\n",
    "    for d in c:\n",
    "        random_full_combinations[-1].append(d)\n",
    "        random_full_combinations[-1].append(1-d)\n",
    "formatted_combinations = []\n",
    "for r in random_full_combinations:\n",
    "    formatted_combinations.append(str(int(\"\".join([str(i) for i in r]),2)))"
   ]
  },
  {
   "cell_type": "code",
   "execution_count": 13,
   "metadata": {},
   "outputs": [],
   "source": [
    "command_to_run = \"python train_cbm.py -dataset {} -epochs {} -num_attributes {} --encoder_model {} -num_classes 2 -seed {} --concept_restriction {}\".format(dataset_name,50,num_objects*2,encoder_model,seed,\" \".join(formatted_combinations))"
   ]
  },
  {
   "cell_type": "code",
   "execution_count": 14,
   "metadata": {},
   "outputs": [
    {
     "name": "stdout",
     "output_type": "stream",
     "text": [
      "Files to delete are ['c284ddb2']\n",
      "Namespace(attr_loss_weight=1.0, batch_size=32, bottleneck=False, ckpt='0', concept_restriction=[106, 150, 102, 105, 169, 153, 165, 149], connect_CY=False, data_dir='../../../datasets/synthetic_object/synthetic_4/preprocessed', dataset='cub', encoder_model='small7', end2end=True, epochs=50, exp='Joint', expand_dim=0, expand_dim_encoder=0, experiment_name='CUB', freeze=False, image_dir='images', load_model='none', log_dir='../models/synthetic_object/synthetic_4/0543854a/joint', lr=0.05, mask_loss_weight=1.0, n_attributes=8, n_class_attr=2, no_img=False, normalize_loss=True, num_classes=2, num_middle_encoder=0, one_batch=False, optimizer='sgd', pretrained=False, resampling=False, save_step=1000, scale_factor=1.5, scale_lr=5, scheduler='none', scheduler_step=30, seed=42, three_class=False, train_addition='', train_variation='none', uncertain_labels=False, use_attr=True, use_aux=True, use_relu=False, use_sigmoid=True, use_unknown=False, weight_decay=0.0004, weighted_loss='multiple')\n",
      "[1, 1, 1, 1, 1, 1, 1, 1]\n",
      "Stop epoch:  60\n",
      "train data path: ../../../datasets/synthetic_object/synthetic_4/preprocessed/train.pkl\n",
      "Concepts to binary [[0, 1, 1, 0, 1, 0, 1, 0], [1, 0, 0, 1, 0, 1, 1, 0], [0, 1, 1, 0, 0, 1, 1, 0], [0, 1, 1, 0, 1, 0, 0, 1], [1, 0, 1, 0, 1, 0, 0, 1], [1, 0, 0, 1, 1, 0, 0, 1], [1, 0, 1, 0, 0, 1, 0, 1], [1, 0, 0, 1, 0, 1, 0, 1]]\n",
      "Dataset length is 530\n",
      "On epoch 0\n",
      "New model best model at epoch 0\n",
      "Epoch [0]:\tTrain loss: 0.9541\tTrain accuracy: 74.8047\tTrain concept accuracy: 59.3750\tTrain concept auc: 0.6603\tVal loss: 0.6872\tVal acc: 66.9922\tVal concept acc: 50.8789\tVal concept auc: 0.5622\tBest val epoch: 0\n",
      "Current lr: [0.05]\n",
      "On epoch 1\n",
      "Epoch [1]:\tTrain loss: 0.9291\tTrain accuracy: 74.6094\tTrain concept accuracy: 60.5469\tTrain concept auc: 0.6936\tVal loss: 0.6961\tVal acc: 66.9922\tVal concept acc: 50.8789\tVal concept auc: 0.5668\tBest val epoch: 0\n",
      "On epoch 2\n",
      "Epoch [2]:\tTrain loss: 0.9187\tTrain accuracy: 74.6094\tTrain concept accuracy: 60.1074\tTrain concept auc: 0.6895\tVal loss: 0.7091\tVal acc: 66.9922\tVal concept acc: 50.4395\tVal concept auc: 0.5605\tBest val epoch: 0\n",
      "On epoch 3\n",
      "Epoch [3]:\tTrain loss: 0.9144\tTrain accuracy: 75.5859\tTrain concept accuracy: 59.9609\tTrain concept auc: 0.6841\tVal loss: 0.7133\tVal acc: 66.9922\tVal concept acc: 50.0000\tVal concept auc: 0.5641\tBest val epoch: 0\n",
      "On epoch 4\n",
      "Epoch [4]:\tTrain loss: 0.9173\tTrain accuracy: 74.6094\tTrain concept accuracy: 60.4004\tTrain concept auc: 0.6860\tVal loss: 0.7083\tVal acc: 66.9922\tVal concept acc: 50.8789\tVal concept auc: 0.5675\tBest val epoch: 0\n",
      "On epoch 5\n",
      "Epoch [5]:\tTrain loss: 0.9148\tTrain accuracy: 74.8047\tTrain concept accuracy: 60.1074\tTrain concept auc: 0.6879\tVal loss: 0.7108\tVal acc: 66.9922\tVal concept acc: 50.8789\tVal concept auc: 0.5658\tBest val epoch: 0\n",
      "On epoch 6\n",
      "Epoch [6]:\tTrain loss: 0.9125\tTrain accuracy: 75.0000\tTrain concept accuracy: 60.9375\tTrain concept auc: 0.6916\tVal loss: 0.7080\tVal acc: 66.9922\tVal concept acc: 50.0000\tVal concept auc: 0.5639\tBest val epoch: 0\n",
      "On epoch 7\n",
      "Epoch [7]:\tTrain loss: 0.9123\tTrain accuracy: 75.0000\tTrain concept accuracy: 62.5488\tTrain concept auc: 0.6927\tVal loss: 0.7119\tVal acc: 66.9922\tVal concept acc: 52.2217\tVal concept auc: 0.5683\tBest val epoch: 0\n",
      "On epoch 8\n",
      "Epoch [8]:\tTrain loss: 0.9076\tTrain accuracy: 74.6094\tTrain concept accuracy: 61.8896\tTrain concept auc: 0.7162\tVal loss: 0.7092\tVal acc: 66.9922\tVal concept acc: 50.0000\tVal concept auc: 0.5891\tBest val epoch: 0\n",
      "On epoch 9\n",
      "Epoch [9]:\tTrain loss: 0.8745\tTrain accuracy: 74.8047\tTrain concept accuracy: 64.1846\tTrain concept auc: 0.7296\tVal loss: 0.6541\tVal acc: 66.9922\tVal concept acc: 59.4482\tVal concept auc: 0.6527\tBest val epoch: 0\n",
      "On epoch 10\n",
      "Epoch [10]:\tTrain loss: 0.2348\tTrain accuracy: 75.1953\tTrain concept accuracy: 94.9219\tTrain concept auc: 0.9745\tVal loss: 3.6466\tVal acc: 66.9922\tVal concept acc: 83.6426\tVal concept auc: 0.9020\tBest val epoch: 0\n",
      "Current lr: [0.05]\n",
      "On epoch 11\n",
      "New model best model at epoch 11\n",
      "Epoch [11]:\tTrain loss: 0.0625\tTrain accuracy: 75.9766\tTrain concept accuracy: 100.0000\tTrain concept auc: 1.0000\tVal loss: 7.7746\tVal acc: 68.1641\tVal concept acc: 85.2539\tVal concept auc: 0.8971\tBest val epoch: 11\n",
      "On epoch 12\n",
      "Epoch [12]:\tTrain loss: 0.0568\tTrain accuracy: 86.3281\tTrain concept accuracy: 100.0000\tTrain concept auc: 1.0000\tVal loss: 8.3378\tVal acc: 68.1641\tVal concept acc: 85.3760\tVal concept auc: 0.9014\tBest val epoch: 11\n",
      "On epoch 13\n",
      "Epoch [13]:\tTrain loss: 0.0510\tTrain accuracy: 87.3047\tTrain concept accuracy: 100.0000\tTrain concept auc: 1.0000\tVal loss: 8.2586\tVal acc: 68.1641\tVal concept acc: 85.3760\tVal concept auc: 0.9035\tBest val epoch: 11\n",
      "On epoch 14\n",
      "Epoch [14]:\tTrain loss: 0.0477\tTrain accuracy: 86.9141\tTrain concept accuracy: 100.0000\tTrain concept auc: 1.0000\tVal loss: 8.0742\tVal acc: 68.1641\tVal concept acc: 85.3760\tVal concept auc: 0.9035\tBest val epoch: 11\n",
      "On epoch 15\n",
      "New model best model at epoch 15\n",
      "Epoch [15]:\tTrain loss: 0.0442\tTrain accuracy: 96.6797\tTrain concept accuracy: 100.0000\tTrain concept auc: 1.0000\tVal loss: 7.8738\tVal acc: 74.6094\tVal concept acc: 85.3760\tVal concept auc: 0.9035\tBest val epoch: 15\n",
      "On epoch 16\n",
      "Epoch [16]:\tTrain loss: 0.0421\tTrain accuracy: 100.0000\tTrain concept accuracy: 100.0000\tTrain concept auc: 1.0000\tVal loss: 7.6741\tVal acc: 74.6094\tVal concept acc: 85.3760\tVal concept auc: 0.9035\tBest val epoch: 15\n",
      "On epoch 17\n",
      "Epoch [17]:\tTrain loss: 0.0390\tTrain accuracy: 100.0000\tTrain concept accuracy: 100.0000\tTrain concept auc: 1.0000\tVal loss: 7.4783\tVal acc: 69.7266\tVal concept acc: 85.3760\tVal concept auc: 0.9035\tBest val epoch: 15\n",
      "On epoch 18\n",
      "Epoch [18]:\tTrain loss: 0.0373\tTrain accuracy: 100.0000\tTrain concept accuracy: 100.0000\tTrain concept auc: 1.0000\tVal loss: 7.2856\tVal acc: 69.7266\tVal concept acc: 85.3760\tVal concept auc: 0.9035\tBest val epoch: 15\n",
      "On epoch 19\n",
      "Epoch [19]:\tTrain loss: 0.0358\tTrain accuracy: 100.0000\tTrain concept accuracy: 100.0000\tTrain concept auc: 1.0000\tVal loss: 7.0969\tVal acc: 69.7266\tVal concept acc: 85.3760\tVal concept auc: 0.9035\tBest val epoch: 15\n",
      "On epoch 20\n",
      "Epoch [20]:\tTrain loss: 0.0338\tTrain accuracy: 100.0000\tTrain concept accuracy: 100.0000\tTrain concept auc: 1.0000\tVal loss: 6.9117\tVal acc: 69.7266\tVal concept acc: 85.3760\tVal concept auc: 0.9034\tBest val epoch: 15\n",
      "Current lr: [0.05]\n",
      "On epoch 21\n",
      "Epoch [21]:\tTrain loss: 0.0328\tTrain accuracy: 100.0000\tTrain concept accuracy: 100.0000\tTrain concept auc: 1.0000\tVal loss: 6.7325\tVal acc: 69.7266\tVal concept acc: 86.3281\tVal concept auc: 0.9034\tBest val epoch: 15\n",
      "On epoch 22\n",
      "Epoch [22]:\tTrain loss: 0.0315\tTrain accuracy: 100.0000\tTrain concept accuracy: 100.0000\tTrain concept auc: 1.0000\tVal loss: 6.5573\tVal acc: 69.7266\tVal concept acc: 86.3281\tVal concept auc: 0.9037\tBest val epoch: 15\n",
      "On epoch 23\n",
      "Epoch [23]:\tTrain loss: 0.0295\tTrain accuracy: 100.0000\tTrain concept accuracy: 100.0000\tTrain concept auc: 1.0000\tVal loss: 6.3860\tVal acc: 69.7266\tVal concept acc: 86.3281\tVal concept auc: 0.9061\tBest val epoch: 15\n",
      "On epoch 24\n",
      "Epoch [24]:\tTrain loss: 0.0285\tTrain accuracy: 100.0000\tTrain concept accuracy: 100.0000\tTrain concept auc: 1.0000\tVal loss: 6.2193\tVal acc: 69.7266\tVal concept acc: 86.3281\tVal concept auc: 0.9060\tBest val epoch: 15\n",
      "On epoch 25\n",
      "Epoch [25]:\tTrain loss: 0.0276\tTrain accuracy: 100.0000\tTrain concept accuracy: 100.0000\tTrain concept auc: 1.0000\tVal loss: 6.0570\tVal acc: 69.7266\tVal concept acc: 86.3281\tVal concept auc: 0.9052\tBest val epoch: 15\n",
      "On epoch 26\n",
      "Epoch [26]:\tTrain loss: 0.0265\tTrain accuracy: 100.0000\tTrain concept accuracy: 100.0000\tTrain concept auc: 1.0000\tVal loss: 5.8992\tVal acc: 69.7266\tVal concept acc: 86.3281\tVal concept auc: 0.9052\tBest val epoch: 15\n",
      "On epoch 27\n",
      "Epoch [27]:\tTrain loss: 0.0256\tTrain accuracy: 100.0000\tTrain concept accuracy: 100.0000\tTrain concept auc: 1.0000\tVal loss: 5.7441\tVal acc: 69.7266\tVal concept acc: 86.3281\tVal concept auc: 0.9053\tBest val epoch: 15\n",
      "On epoch 28\n",
      "Epoch [28]:\tTrain loss: 0.0249\tTrain accuracy: 100.0000\tTrain concept accuracy: 100.0000\tTrain concept auc: 1.0000\tVal loss: 5.5941\tVal acc: 69.7266\tVal concept acc: 86.3281\tVal concept auc: 0.9052\tBest val epoch: 15\n",
      "On epoch 29\n",
      "Epoch [29]:\tTrain loss: 0.0243\tTrain accuracy: 100.0000\tTrain concept accuracy: 100.0000\tTrain concept auc: 1.0000\tVal loss: 5.4475\tVal acc: 69.7266\tVal concept acc: 86.3281\tVal concept auc: 0.9089\tBest val epoch: 15\n",
      "On epoch 30\n",
      "Epoch [30]:\tTrain loss: 0.0231\tTrain accuracy: 100.0000\tTrain concept accuracy: 100.0000\tTrain concept auc: 1.0000\tVal loss: 5.3051\tVal acc: 69.7266\tVal concept acc: 86.3281\tVal concept auc: 0.9089\tBest val epoch: 15\n",
      "Current lr: [0.05]\n",
      "On epoch 31\n",
      "Epoch [31]:\tTrain loss: 0.0224\tTrain accuracy: 100.0000\tTrain concept accuracy: 100.0000\tTrain concept auc: 1.0000\tVal loss: 5.1659\tVal acc: 69.7266\tVal concept acc: 86.3281\tVal concept auc: 0.9089\tBest val epoch: 15\n",
      "On epoch 32\n",
      "Epoch [32]:\tTrain loss: 0.0218\tTrain accuracy: 100.0000\tTrain concept accuracy: 100.0000\tTrain concept auc: 1.0000\tVal loss: 5.0308\tVal acc: 69.7266\tVal concept acc: 86.3281\tVal concept auc: 0.9089\tBest val epoch: 15\n",
      "On epoch 33\n",
      "Epoch [33]:\tTrain loss: 0.0213\tTrain accuracy: 100.0000\tTrain concept accuracy: 100.0000\tTrain concept auc: 1.0000\tVal loss: 4.8985\tVal acc: 69.7266\tVal concept acc: 86.3281\tVal concept auc: 0.9079\tBest val epoch: 15\n",
      "On epoch 34\n",
      "Epoch [34]:\tTrain loss: 0.0210\tTrain accuracy: 100.0000\tTrain concept accuracy: 100.0000\tTrain concept auc: 1.0000\tVal loss: 4.7690\tVal acc: 69.7266\tVal concept acc: 86.3281\tVal concept auc: 0.9079\tBest val epoch: 15\n",
      "On epoch 35\n",
      "Epoch [35]:\tTrain loss: 0.0201\tTrain accuracy: 100.0000\tTrain concept accuracy: 100.0000\tTrain concept auc: 1.0000\tVal loss: 4.6425\tVal acc: 69.7266\tVal concept acc: 86.3281\tVal concept auc: 0.9077\tBest val epoch: 15\n",
      "On epoch 36\n",
      "Epoch [36]:\tTrain loss: 0.0192\tTrain accuracy: 100.0000\tTrain concept accuracy: 100.0000\tTrain concept auc: 1.0000\tVal loss: 4.5204\tVal acc: 69.7266\tVal concept acc: 86.3281\tVal concept auc: 0.9069\tBest val epoch: 15\n",
      "On epoch 37\n",
      "Epoch [37]:\tTrain loss: 0.0190\tTrain accuracy: 100.0000\tTrain concept accuracy: 100.0000\tTrain concept auc: 1.0000\tVal loss: 4.4007\tVal acc: 69.7266\tVal concept acc: 86.3281\tVal concept auc: 0.9069\tBest val epoch: 15\n",
      "On epoch 38\n",
      "Epoch [38]:\tTrain loss: 0.0184\tTrain accuracy: 100.0000\tTrain concept accuracy: 100.0000\tTrain concept auc: 1.0000\tVal loss: 4.2838\tVal acc: 69.7266\tVal concept acc: 86.3281\tVal concept auc: 0.9070\tBest val epoch: 15\n",
      "On epoch 39\n",
      "Epoch [39]:\tTrain loss: 0.0183\tTrain accuracy: 100.0000\tTrain concept accuracy: 100.0000\tTrain concept auc: 1.0000\tVal loss: 4.1700\tVal acc: 69.7266\tVal concept acc: 86.3281\tVal concept auc: 0.9062\tBest val epoch: 15\n",
      "On epoch 40\n",
      "Epoch [40]:\tTrain loss: 0.0177\tTrain accuracy: 100.0000\tTrain concept accuracy: 100.0000\tTrain concept auc: 1.0000\tVal loss: 4.0582\tVal acc: 69.7266\tVal concept acc: 86.3281\tVal concept auc: 0.9064\tBest val epoch: 15\n",
      "Current lr: [0.05]\n",
      "On epoch 41\n",
      "Epoch [41]:\tTrain loss: 0.0174\tTrain accuracy: 100.0000\tTrain concept accuracy: 100.0000\tTrain concept auc: 1.0000\tVal loss: 3.9491\tVal acc: 69.7266\tVal concept acc: 86.3281\tVal concept auc: 0.9064\tBest val epoch: 15\n",
      "On epoch 42\n",
      "Epoch [42]:\tTrain loss: 0.0169\tTrain accuracy: 100.0000\tTrain concept accuracy: 100.0000\tTrain concept auc: 1.0000\tVal loss: 3.8428\tVal acc: 69.7266\tVal concept acc: 86.3281\tVal concept auc: 0.9129\tBest val epoch: 15\n",
      "On epoch 43\n",
      "Epoch [43]:\tTrain loss: 0.0165\tTrain accuracy: 100.0000\tTrain concept accuracy: 100.0000\tTrain concept auc: 1.0000\tVal loss: 3.7385\tVal acc: 69.7266\tVal concept acc: 86.3281\tVal concept auc: 0.9119\tBest val epoch: 15\n",
      "On epoch 44\n",
      "Epoch [44]:\tTrain loss: 0.0161\tTrain accuracy: 100.0000\tTrain concept accuracy: 100.0000\tTrain concept auc: 1.0000\tVal loss: 3.6366\tVal acc: 69.7266\tVal concept acc: 86.3281\tVal concept auc: 0.9120\tBest val epoch: 15\n",
      "On epoch 45\n",
      "Epoch [45]:\tTrain loss: 0.0159\tTrain accuracy: 100.0000\tTrain concept accuracy: 100.0000\tTrain concept auc: 1.0000\tVal loss: 3.5365\tVal acc: 69.7266\tVal concept acc: 86.3281\tVal concept auc: 0.9120\tBest val epoch: 15\n",
      "On epoch 46\n",
      "Epoch [46]:\tTrain loss: 0.0153\tTrain accuracy: 100.0000\tTrain concept accuracy: 100.0000\tTrain concept auc: 1.0000\tVal loss: 3.4393\tVal acc: 69.7266\tVal concept acc: 86.3281\tVal concept auc: 0.9120\tBest val epoch: 15\n",
      "On epoch 47\n",
      "Epoch [47]:\tTrain loss: 0.0152\tTrain accuracy: 100.0000\tTrain concept accuracy: 100.0000\tTrain concept auc: 1.0000\tVal loss: 3.3438\tVal acc: 69.7266\tVal concept acc: 86.3281\tVal concept auc: 0.9187\tBest val epoch: 15\n",
      "On epoch 48\n",
      "Epoch [48]:\tTrain loss: 0.0148\tTrain accuracy: 100.0000\tTrain concept accuracy: 100.0000\tTrain concept auc: 1.0000\tVal loss: 3.2518\tVal acc: 69.7266\tVal concept acc: 86.3281\tVal concept auc: 0.9187\tBest val epoch: 15\n",
      "On epoch 49\n",
      "Epoch [49]:\tTrain loss: 0.0148\tTrain accuracy: 100.0000\tTrain concept accuracy: 100.0000\tTrain concept auc: 1.0000\tVal loss: 3.1611\tVal acc: 69.7266\tVal concept acc: 86.3281\tVal concept auc: 0.9194\tBest val epoch: 15\n",
      "Saving the model again to ../models/synthetic_object/synthetic_4/0543854a/joint!\n",
      "wandb: Currently logged in as: navr414. Use `wandb login --relogin` to force relogin\n",
      "wandb: wandb version 0.16.2 is available!  To upgrade, please run:\n",
      "wandb:  $ pip install wandb --upgrade\n",
      "wandb: Tracking run with wandb version 0.13.5\n",
      "wandb: Run data is saved locally in /usr0/home/naveenr/projects/spurious_concepts/ConceptBottleneck/wandb/run-20240116_131737-i2mo3taq\n",
      "wandb: Run `wandb offline` to turn off syncing.\n",
      "wandb: Syncing run likely-cosmos-287\n",
      "wandb: ⭐️ View project at https://wandb.ai/navr414/spurious-concepts-synthetic_4\n",
      "wandb: 🚀 View run at https://wandb.ai/navr414/spurious-concepts-synthetic_4/runs/i2mo3taq\n",
      "/usr0/home/naveenr/miniconda3/envs/concepts_spurious/lib/python3.7/site-packages/torchmetrics/utilities/prints.py:36: UserWarning: Metric `AUROC` will save all targets and predictions in buffer. For large datasets this may lead to large memory footprint.\n",
      "  warnings.warn(*args, **kwargs)\n",
      "/usr0/home/naveenr/miniconda3/envs/concepts_spurious/lib/python3.7/site-packages/torch/optim/lr_scheduler.py:154: UserWarning: The epoch parameter in `scheduler.step()` was not necessary and is being deprecated where possible. Please use `scheduler.step()` to step the scheduler. During the deprecation, if epoch is different from None, the closed form is used instead of the new chainable form, where available. Please open an issue if you are unable to replicate your use case: https://github.com/pytorch/pytorch/issues/new/choose.\n",
      "  warnings.warn(EPOCH_DEPRECATION_WARNING, UserWarning)\n",
      "/usr0/home/naveenr/miniconda3/envs/concepts_spurious/lib/python3.7/site-packages/torch/optim/lr_scheduler.py:370: UserWarning: To get the last learning rate computed by the scheduler, please use `get_last_lr()`.\n",
      "  \"please use `get_last_lr()`.\", UserWarning)\n",
      "wandb: Waiting for W&B process to finish... (success).\n",
      "wandb: \n",
      "wandb: Run history:\n",
      "wandb: lr ▁▁▁▁▁▁▁▁▁▁▁▁▁▁▁▁▁▁▁▁▁▁▁▁▁▁▁▁▁▁▁▁▁▁▁▁▁▁▁▁\n",
      "wandb: \n",
      "wandb: Run summary:\n",
      "wandb: lr 0.05\n",
      "wandb: \n",
      "wandb: Synced likely-cosmos-287: https://wandb.ai/navr414/spurious-concepts-synthetic_4/runs/i2mo3taq\n",
      "wandb: Synced 6 W&B file(s), 0 media file(s), 0 artifact file(s) and 0 other file(s)\n",
      "wandb: Find logs at: ./wandb/run-20240116_131737-i2mo3taq/logs\n"
     ]
    },
    {
     "data": {
      "text/plain": [
       "CompletedProcess(args='cd ../../ConceptBottleneck && python train_cbm.py -dataset synthetic_object/synthetic_4 -epochs 50 -num_attributes 8 --encoder_model small7 -num_classes 2 -seed 42 --concept_restriction 106 150 102 105 169 153 165 149', returncode=0)"
      ]
     },
     "execution_count": 14,
     "metadata": {},
     "output_type": "execute_result"
    }
   ],
   "source": [
    "subprocess.run(\"cd ../../ConceptBottleneck && {}\".format(command_to_run),shell=True)"
   ]
  },
  {
   "cell_type": "code",
   "execution_count": 15,
   "metadata": {},
   "outputs": [],
   "source": [
    "def get_most_recent_file(directory):\n",
    "    files = [os.path.join(directory, f) for f in os.listdir(directory) if os.path.isfile(os.path.join(directory, f))]\n",
    "    if not files:\n",
    "        return None\n",
    "\n",
    "    most_recent_file = max(files, key=os.path.getmtime)\n",
    "    \n",
    "    return most_recent_file\n"
   ]
  },
  {
   "cell_type": "code",
   "execution_count": 16,
   "metadata": {},
   "outputs": [],
   "source": [
    "most_recent_data = get_most_recent_file(\"../../models/model_data/\")\n",
    "rand_name = most_recent_data.split(\"/\")[-1].replace(\".json\",\"\")\n",
    "results_file = \"../../results/correlation/{}.json\".format(rand_name)\n",
    "delete_same_dict(parameters,\"../../results/correlation\")"
   ]
  },
  {
   "cell_type": "code",
   "execution_count": 17,
   "metadata": {},
   "outputs": [],
   "source": [
    "joint_location = \"../../models/synthetic_object/synthetic_{}/{}/joint/best_model_{}.pth\".format(num_objects,rand_name,seed)\n",
    "joint_model = torch.load(joint_location,map_location='cpu')\n",
    "\n",
    "if 'encoder_model' in parameters and 'mlp' in parameters['encoder_model']:\n",
    "    joint_model.encoder_model = True\n",
    "\n",
    "r = joint_model.eval()"
   ]
  },
  {
   "cell_type": "code",
   "execution_count": 18,
   "metadata": {},
   "outputs": [],
   "source": [
    "joint_model = joint_model.to(device)"
   ]
  },
  {
   "cell_type": "code",
   "execution_count": 19,
   "metadata": {},
   "outputs": [],
   "source": [
    "torch.cuda.empty_cache()"
   ]
  },
  {
   "cell_type": "markdown",
   "metadata": {},
   "source": [
    "## Compute Accuracy"
   ]
  },
  {
   "cell_type": "code",
   "execution_count": 20,
   "metadata": {},
   "outputs": [],
   "source": [
    "train_acc =  get_accuracy(joint_model,run_joint_model,train_loader)\n",
    "val_acc = get_accuracy(joint_model,run_joint_model,val_loader)\n",
    "test_acc =get_accuracy(joint_model,run_joint_model,test_loader)"
   ]
  },
  {
   "cell_type": "code",
   "execution_count": 21,
   "metadata": {},
   "outputs": [],
   "source": [
    "in_distro = 0\n",
    "correct_in_distro = 0 \n",
    "\n",
    "out_distro = 0\n",
    "correct_out_distro = 0\n",
    "\n",
    "device = 'cuda' if torch.cuda.is_available() else 'cpu'\n",
    "\n",
    "with torch.no_grad():  # Use torch.no_grad() to disable gradient computation\n",
    "\n",
    "    for data in test_loader:\n",
    "        x, y, c = data\n",
    "        y_pred, c_pred = run_joint_model(joint_model, x.to(device))\n",
    "        c_pred = torch.stack([i.detach() for i in c_pred])\n",
    "        c_pred = torch.nn.Sigmoid()(c_pred)\n",
    "\n",
    "        c_pred = c_pred.numpy().T\n",
    "        y_pred = logits_to_index(y_pred.detach())\n",
    "\n",
    "        c = torch.stack([i.detach() for i in c]).numpy().T\n",
    "\n",
    "        in_distribution = []\n",
    "\n",
    "        for i in range(len(c)):\n",
    "            binary_c = c[i]\n",
    "            combo = str(int(\"\".join([str(i) for i in binary_c]),2))\n",
    "\n",
    "            if combo in formatted_combinations:\n",
    "                in_distribution.append(True)\n",
    "            else:\n",
    "                in_distribution.append(False)\n",
    "        \n",
    "        in_distro += in_distribution.count(True) * len(c[0])\n",
    "        out_distro += in_distribution.count(False) * len(c[0])\n",
    "\n",
    "        in_distribution = np.array(in_distribution)\n",
    "\n",
    "        correct_in_distro += np.sum(np.clip(np.round(c_pred[in_distribution]),0,1) == c[in_distribution]).item() \n",
    "        correct_out_distro += np.sum(np.clip(np.round(c_pred[~in_distribution]),0,1) == c[~in_distribution]).item() \n",
    "\n"
   ]
  },
  {
   "cell_type": "code",
   "execution_count": 22,
   "metadata": {},
   "outputs": [],
   "source": [
    "concept_accuracies = []\n",
    "\n",
    "# Try and flip each concept\n",
    "for concept_num in range(num_objects*2):\n",
    "# Set this concept_num to 1 (which sets the corresponding thing to 0)\n",
    "    total_flipped = 0\n",
    "    total_points = 0\n",
    "\n",
    "    with torch.no_grad():  # Use torch.no_grad() to disable gradient computation\n",
    "\n",
    "        for data in test_loader:\n",
    "            x, y, c = data\n",
    "            y_pred, c_pred = run_joint_model(joint_model, x.to(device))\n",
    "            c_pred = torch.stack([i.detach() for i in c_pred]).numpy().T\n",
    "            y_pred = logits_to_index(y_pred.detach())\n",
    "\n",
    "            c = torch.stack([i.detach() for i in c]).numpy().T\n",
    "\n",
    "            in_distribution = []\n",
    "\n",
    "            for i in range(len(c)):\n",
    "                # Just look for errors where binary_c = 1 in prediction\n",
    "\n",
    "                binary_c = c[i]\n",
    "\n",
    "                if binary_c[concept_num] == 1:\n",
    "                    in_distribution.append(True)\n",
    "                else:\n",
    "                    in_distribution.append(False)\n",
    "            \n",
    "            in_distribution = np.array(in_distribution)\n",
    "            total_points += np.sum(in_distribution) \n",
    "            total_flipped += np.sum(np.clip(np.round(c_pred[in_distribution,concept_num]),0,1) == c[in_distribution,concept_num]) \n",
    "            \n",
    "    concept_accuracies.append(total_flipped/total_points)"
   ]
  },
  {
   "cell_type": "code",
   "execution_count": 26,
   "metadata": {},
   "outputs": [],
   "source": [
    "final_data = {\n",
    "    'train_accuracy': train_acc, \n",
    "    'val_accuracy': val_acc, \n",
    "    'test_accuracy': test_acc, \n",
    "    'in_distro': correct_in_distro/in_distro, \n",
    "    'num_in_distro': in_distro, \n",
    "    'out_distro': correct_out_distro/out_distro, \n",
    "    'num_out_distro': out_distro, \n",
    "    'concept_accuracies': concept_accuracies,\n",
    "    'combinations': formatted_combinations,\n",
    "    'parameters': parameters,  \n",
    "}"
   ]
  },
  {
   "cell_type": "code",
   "execution_count": 27,
   "metadata": {},
   "outputs": [
    {
     "data": {
      "text/plain": [
       "{'train_accuracy': 0.6923828125,\n",
       " 'val_accuracy': 0.697265625,\n",
       " 'test_accuracy': 0.685546875,\n",
       " 'in_distro': 0.9839494163424124,\n",
       " 'num_in_distro': 2056,\n",
       " 'out_distro': 0.7289215686274509,\n",
       " 'num_out_distro': 2040,\n",
       " 'concept_accuracies': [0.9881422924901185,\n",
       "  0.752895752895753,\n",
       "  0.9964664310954063,\n",
       "  0.4585152838427948,\n",
       "  0.7666666666666667,\n",
       "  0.9889705882352942,\n",
       "  1.0,\n",
       "  0.9814814814814815],\n",
       " 'combinations': ['106', '150', '102', '105', '169', '153', '165', '149'],\n",
       " 'parameters': {'seed': 42,\n",
       "  'encoder_model': 'small7',\n",
       "  'debugging': False,\n",
       "  'dataset_name': 'synthetic_object/synthetic_4',\n",
       "  'num_concept_combinations': 8}}"
      ]
     },
     "execution_count": 27,
     "metadata": {},
     "output_type": "execute_result"
    }
   ],
   "source": [
    "final_data"
   ]
  },
  {
   "cell_type": "code",
   "execution_count": 28,
   "metadata": {},
   "outputs": [],
   "source": [
    "json.dump(final_data,open(results_file,\"w\"))"
   ]
  },
  {
   "cell_type": "code",
   "execution_count": null,
   "metadata": {},
   "outputs": [],
   "source": []
  }
 ],
 "metadata": {
  "kernelspec": {
   "display_name": "concepts",
   "language": "python",
   "name": "python3"
  },
  "language_info": {
   "codemirror_mode": {
    "name": "ipython",
    "version": 3
   },
   "file_extension": ".py",
   "mimetype": "text/x-python",
   "name": "python",
   "nbconvert_exporter": "python",
   "pygments_lexer": "ipython3",
   "version": "3.7.16"
  }
 },
 "nbformat": 4,
 "nbformat_minor": 2
}
