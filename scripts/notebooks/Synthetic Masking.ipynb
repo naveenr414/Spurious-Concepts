{
 "cells": [
  {
   "cell_type": "code",
   "execution_count": 1,
   "metadata": {},
   "outputs": [],
   "source": [
    "%load_ext autoreload\n",
    "%autoreload 2"
   ]
  },
  {
   "cell_type": "code",
   "execution_count": 2,
   "metadata": {},
   "outputs": [],
   "source": [
    "import sys\n",
    "sys.path.append('/usr0/home/naveenr/projects/spurious_concepts/ConceptBottleneck/')\n",
    "sys.path.append('/usr0/home/naveenr/projects/spurious_concepts')"
   ]
  },
  {
   "cell_type": "code",
   "execution_count": 3,
   "metadata": {},
   "outputs": [],
   "source": [
    "import torch\n",
    "from sklearn.metrics import roc_auc_score\n",
    "from sklearn.neural_network import MLPClassifier\n",
    "import torch.nn as nn\n",
    "import torch.optim as optim\n",
    "import pickle\n",
    "import matplotlib.pyplot as plt\n",
    "import torch.nn.functional as F\n",
    "from PIL import Image\n",
    "from captum.attr import visualization as viz\n",
    "from matplotlib.colors import LinearSegmentedColormap\n",
    "import cv2\n",
    "from copy import copy \n",
    "import itertools\n",
    "from matplotlib.patches import Circle\n",
    "import json\n",
    "import argparse\n",
    "import logging \n",
    "import resource \n",
    "import secrets\n",
    "from torch.utils.data import Subset"
   ]
  },
  {
   "cell_type": "code",
   "execution_count": 4,
   "metadata": {},
   "outputs": [],
   "source": [
    "from ConceptBottleneck.CUB.dataset import load_data"
   ]
  },
  {
   "cell_type": "code",
   "execution_count": 5,
   "metadata": {},
   "outputs": [],
   "source": [
    "from src.images import *\n",
    "from src.util import *\n",
    "from src.models import *\n",
    "from src.plot import *"
   ]
  },
  {
   "cell_type": "markdown",
   "metadata": {},
   "source": [
    "## Set up dataset + model"
   ]
  },
  {
   "cell_type": "code",
   "execution_count": 6,
   "metadata": {},
   "outputs": [],
   "source": [
    "torch.cuda.set_per_process_memory_fraction(0.5)\n",
    "resource.setrlimit(resource.RLIMIT_AS, (20 * 1024 * 1024 * 1024, -1))\n",
    "torch.set_num_threads(1)"
   ]
  },
  {
   "cell_type": "code",
   "execution_count": 7,
   "metadata": {},
   "outputs": [
    {
     "name": "stderr",
     "output_type": "stream",
     "text": [
      "INFO:root:Setting up dataset\n"
     ]
    }
   ],
   "source": [
    "logging.basicConfig(level=logging.INFO)\n",
    "logging.info(\"Setting up dataset\")"
   ]
  },
  {
   "cell_type": "code",
   "execution_count": 80,
   "metadata": {},
   "outputs": [],
   "source": [
    "is_jupyter = 'ipykernel' in sys.modules\n",
    "if is_jupyter:\n",
    "    encoder_model='small7'\n",
    "    seed = 44\n",
    "    dataset_name = \"synthetic_object/synthetic_2\"\n",
    "    train_variation = \"none\"\n",
    "    model_type = \"cem\"\n",
    "else:\n",
    "    parser = argparse.ArgumentParser(description=\"Synthetic Dataset Experiments\")\n",
    "\n",
    "    parser.add_argument('--seed', type=int, default=42, help='Random seed')\n",
    "    parser.add_argument('--train_variation', type=str, default='none', help='Which train variation to analyze')\n",
    "    parser.add_argument('--model_type', type=str, default='joint', help='Which train variation to analyze')\n",
    "\n",
    "    args = parser.parse_args()\n",
    "    encoder_model = \"inceptionv3\" \n",
    "    seed = args.seed \n",
    "    dataset_name = \"synthetic_object/synthetic_2\"\n",
    "    train_variation = args.train_variation\n",
    "    model_type = args.model_type\n",
    "\n",
    "parameters = {\n",
    "    'dataset': dataset_name,\n",
    "    'seed': seed, \n",
    "    'encoder_model': encoder_model ,\n",
    "    'debugging': False,\n",
    "    'epochs': 50,\n",
    "    'lr': 0.05,\n",
    "    'train_variation': train_variation,\n",
    "    'model_type': model_type,\n",
    "    'weight_decay': 0.004, \n",
    "    'scale_lr': 5\n",
    "}\n"
   ]
  },
  {
   "cell_type": "code",
   "execution_count": 81,
   "metadata": {},
   "outputs": [],
   "source": [
    "train_loader, val_loader, test_loader, train_pkl, val_pkl, test_pkl = get_data(1,encoder_model=encoder_model,dataset_name=dataset_name)"
   ]
  },
  {
   "cell_type": "code",
   "execution_count": 82,
   "metadata": {},
   "outputs": [
    {
     "data": {
      "text/plain": [
       "{'id': 0,\n",
       " 'img_path': 'synthetic_object/synthetic_2/images/0.png',\n",
       " 'class_label': 1,\n",
       " 'attribute_label': [0, 1, 1, 0]}"
      ]
     },
     "execution_count": 82,
     "metadata": {},
     "output_type": "execute_result"
    }
   ],
   "source": [
    "train_pkl[0]"
   ]
  },
  {
   "cell_type": "code",
   "execution_count": 83,
   "metadata": {},
   "outputs": [],
   "source": [
    "reference_pkl = [\n",
    "    {'id': 0, 'img_path': 'synthetic_object/synthetic_2/reference_images/1_0_0_0.png','class_label': 0, 'attribute_label': [1,0,0,0]},\n",
    "    {'id': 1, 'img_path': 'synthetic_object/synthetic_2/reference_images/0_1_0_0.png','class_label': 1, 'attribute_label': [0,1,0,0]},\n",
    "    {'id': 2, 'img_path': 'synthetic_object/synthetic_2/reference_images/0_0_1_0.png','class_label': 0, 'attribute_label': [0,0,1,0]},\n",
    "    {'id': 3, 'img_path': 'synthetic_object/synthetic_2/reference_images/0_0_0_1.png','class_label': 0, 'attribute_label': [0,0,0,1]}\n",
    "]"
   ]
  },
  {
   "cell_type": "code",
   "execution_count": 84,
   "metadata": {},
   "outputs": [],
   "source": [
    "pickle.dump(reference_pkl,open(\"../../../../datasets/synthetic_object/synthetic_2/preprocessed/reference.pkl\",\"wb\"))"
   ]
  },
  {
   "cell_type": "code",
   "execution_count": 85,
   "metadata": {},
   "outputs": [],
   "source": [
    "reference_image_path = \"../../../../datasets/synthetic_object/synthetic_2/preprocessed/reference.pkl\"\n",
    "resize =  \"inceptionv3\" in encoder_model\n",
    "get_label_free=False \n",
    "reference_loader = load_data([reference_image_path], True, no_img=False, batch_size=64, image_dir=\"reference_images/\", n_class_attr=2, path_transform=lambda path: \"../../../../datasets/\"+path,resize=resize,get_label_free=get_label_free)\n"
   ]
  },
  {
   "cell_type": "code",
   "execution_count": 86,
   "metadata": {},
   "outputs": [],
   "source": [
    "test_images, test_y, test_c = unroll_data(test_loader)"
   ]
  },
  {
   "cell_type": "code",
   "execution_count": 87,
   "metadata": {},
   "outputs": [],
   "source": [
    "reference_images, references_y, references_c = unroll_data(reference_loader)"
   ]
  },
  {
   "cell_type": "code",
   "execution_count": 88,
   "metadata": {},
   "outputs": [],
   "source": [
    "device = 'cuda' if torch.cuda.is_available() else 'cpu'"
   ]
  },
  {
   "cell_type": "code",
   "execution_count": 89,
   "metadata": {},
   "outputs": [
    {
     "data": {
      "text/plain": [
       "{'dataset': 'synthetic_object/synthetic_2',\n",
       " 'seed': 44,\n",
       " 'encoder_model': 'small7',\n",
       " 'debugging': False,\n",
       " 'epochs': 50,\n",
       " 'lr': 0.05,\n",
       " 'train_variation': 'none',\n",
       " 'model_type': 'cem',\n",
       " 'weight_decay': 0.004,\n",
       " 'scale_lr': 5}"
      ]
     },
     "execution_count": 89,
     "metadata": {},
     "output_type": "execute_result"
    }
   ],
   "source": [
    "parameters"
   ]
  },
  {
   "cell_type": "code",
   "execution_count": 90,
   "metadata": {},
   "outputs": [
    {
     "name": "stdout",
     "output_type": "stream",
     "text": [
      "['a4aa87e7']\n"
     ]
    }
   ],
   "source": [
    "if model_type != 'joint':\n",
    "    joint_model = get_synthetic_model(dataset_name,{'model_type': model_type, 'dataset': 'synthetic_2', 'seed': seed})\n",
    "else:\n",
    "    joint_model = get_synthetic_model(dataset_name,parameters)\n",
    "joint_model = joint_model.to(device)\n"
   ]
  },
  {
   "cell_type": "code",
   "execution_count": 91,
   "metadata": {},
   "outputs": [],
   "source": [
    "run_model_function = run_joint_model\n",
    "if model_type == \"cem\":\n",
    "    run_model_function = run_cem_model\n",
    "elif model_type == \"probcbm\":\n",
    "    run_model_function = run_probcbm_model"
   ]
  },
  {
   "cell_type": "markdown",
   "metadata": {},
   "source": [
    "## Plot the Dataset"
   ]
  },
  {
   "cell_type": "code",
   "execution_count": 92,
   "metadata": {},
   "outputs": [
    {
     "name": "stderr",
     "output_type": "stream",
     "text": [
      "INFO:root:Plotting Dataset\n"
     ]
    }
   ],
   "source": [
    "logging.info(\"Plotting Dataset\")"
   ]
  },
  {
   "cell_type": "code",
   "execution_count": 93,
   "metadata": {},
   "outputs": [],
   "source": [
    "dataset_directory = \"../../../../datasets\""
   ]
  },
  {
   "cell_type": "code",
   "execution_count": 94,
   "metadata": {},
   "outputs": [
    {
     "data": {
      "text/plain": [
       "{'id': 0,\n",
       " 'img_path': 'synthetic_object/synthetic_2/images/0.png',\n",
       " 'class_label': 1,\n",
       " 'attribute_label': [0, 1, 1, 0]}"
      ]
     },
     "execution_count": 94,
     "metadata": {},
     "output_type": "execute_result"
    }
   ],
   "source": [
    "train_pkl[0]"
   ]
  },
  {
   "cell_type": "code",
   "execution_count": 95,
   "metadata": {},
   "outputs": [
    {
     "data": {
      "text/plain": [
       "<matplotlib.image.AxesImage at 0x7fb9c0ad4e10>"
      ]
     },
     "execution_count": 95,
     "metadata": {},
     "output_type": "execute_result"
    },
    {
     "data": {
      "image/png": "[encoded data removed]",
      "text/plain": [
       "<Figure size 640x480 with 1 Axes>"
      ]
     },
     "metadata": {},
     "output_type": "display_data"
    }
   ],
   "source": [
    "img_path = dataset_directory+'/'+train_pkl[0]['img_path']\n",
    "image = Image.open(img_path)\n",
    "plt.imshow(image)"
   ]
  },
  {
   "cell_type": "markdown",
   "metadata": {},
   "source": [
    "## Accuracy"
   ]
  },
  {
   "cell_type": "code",
   "execution_count": 96,
   "metadata": {},
   "outputs": [],
   "source": [
    "train_acc =  get_accuracy(joint_model,run_model_function,train_loader)\n",
    "val_acc = get_accuracy(joint_model,run_model_function,val_loader)\n",
    "test_acc = get_accuracy(joint_model,run_model_function,test_loader)"
   ]
  },
  {
   "cell_type": "code",
   "execution_count": 97,
   "metadata": {},
   "outputs": [
    {
     "data": {
      "text/plain": [
       "(1.0, 1.0, 1.0)"
      ]
     },
     "execution_count": 97,
     "metadata": {},
     "output_type": "execute_result"
    }
   ],
   "source": [
    "train_acc, val_acc, test_acc"
   ]
  },
  {
   "cell_type": "code",
   "execution_count": 98,
   "metadata": {},
   "outputs": [],
   "source": [
    "with torch.no_grad():\n",
    "\n",
    "    for data_point in reference_loader:\n",
    "        x,y,c = data_point \n",
    "        _, reference_predictions = run_model_function(joint_model,x.to(device))\n",
    "        reference_predictions = torch.nn.Sigmoid()(reference_predictions.detach().cpu().T)\n",
    "    \n",
    "relevant_mask = []\n",
    "for concept in range(2):\n",
    "    for data_point in [[1,0,1,0],[1,0,0,1],[0,1,1,0],[0,1,0,1]]:\n",
    "        if concept == 0:\n",
    "            initial_idx = data_point[:2].index(1)\n",
    "        else:\n",
    "            initial_idx = data_point[2:].index(1)+2\n",
    "        data_point[initial_idx] = 0\n",
    "        new_prediction = reference_predictions[data_point.index(1)][initial_idx]\n",
    "        relevant_mask.append(1-new_prediction)\n",
    "\n",
    "irrelevant_mask = []\n",
    "for concept in range(2):\n",
    "    for data_point in [[1,0,1,0],[1,0,0,1],[0,1,1,0],[0,1,0,1]]:\n",
    "        if concept == 0:\n",
    "            initial_idx = data_point[:2].index(1)\n",
    "            other_idx = data_point[2:].index(1)+2\n",
    "        else:\n",
    "            initial_idx = data_point[2:].index(1)+2\n",
    "            other_idx = data_point[:2].index(1)\n",
    "        data_point[other_idx] = 0\n",
    "        new_prediction = reference_predictions[data_point.index(1)][initial_idx]\n",
    "        irrelevant_mask.append(1-new_prediction)"
   ]
  },
  {
   "cell_type": "code",
   "execution_count": 99,
   "metadata": {},
   "outputs": [
    {
     "data": {
      "text/plain": [
       "(0.38083738, 0.33956942)"
      ]
     },
     "execution_count": 99,
     "metadata": {},
     "output_type": "execute_result"
    }
   ],
   "source": [
    "np.mean(relevant_mask), np.mean(irrelevant_mask)"
   ]
  },
  {
   "cell_type": "code",
   "execution_count": null,
   "metadata": {},
   "outputs": [],
   "source": []
  },
  {
   "cell_type": "code",
   "execution_count": 139,
   "metadata": {},
   "outputs": [],
   "source": [
    "results = {\n",
    "    'relevant_mask': relevant_mask,\n",
    "    'irrelevant_mask': irrelevant_mask,\n",
    "    'parameters': {\n",
    "        'seed': seed, \n",
    "        'dataset': 'synthetic_object/synthetic_2', \n",
    "        'train_variation': train_variation, \n",
    "        'model_type': model_type, \n",
    "    }, \n",
    "}"
   ]
  },
  {
   "cell_type": "code",
   "execution_count": null,
   "metadata": {},
   "outputs": [],
   "source": []
  },
  {
   "cell_type": "code",
   "execution_count": 100,
   "metadata": {},
   "outputs": [
    {
     "data": {
      "text/plain": [
       "([0.38211682, 0.37825048, 0.38083738], [0.36970115, 0.35567003, 0.33956942])"
      ]
     },
     "execution_count": 100,
     "metadata": {},
     "output_type": "execute_result"
    }
   ],
   "source": [
    "[0.38211682,0.37825048, 0.38083738],[0.36970115, 0.35567003, 0.33956942]"
   ]
  },
  {
   "cell_type": "code",
   "execution_count": 103,
   "metadata": {},
   "outputs": [
    {
     "data": {
      "text/plain": [
       "(0.35498019999999997, 0.012310894559153681)"
      ]
     },
     "execution_count": 103,
     "metadata": {},
     "output_type": "execute_result"
    }
   ],
   "source": [
    "np.mean([0.36970115, 0.35567003, 0.33956942]), np.std([0.36970115, 0.35567003, 0.33956942])"
   ]
  },
  {
   "cell_type": "code",
   "execution_count": 327,
   "metadata": {},
   "outputs": [
    {
     "data": {
      "text/plain": [
       "0.002466911585660628"
      ]
     },
     "execution_count": 327,
     "metadata": {},
     "output_type": "execute_result"
    }
   ],
   "source": [
    "np.std([0.33209044, 0.3269265, 0.3267908])"
   ]
  },
  {
   "cell_type": "code",
   "execution_count": 184,
   "metadata": {},
   "outputs": [
    {
     "data": {
      "text/plain": [
       "(0.052331220000000005, 0.03734815759776467)"
      ]
     },
     "execution_count": 184,
     "metadata": {},
     "output_type": "execute_result"
    }
   ],
   "source": [
    "np.mean([0,0.0846944,0.07229926]),np.std([0,0.0846944,0.07229926])"
   ]
  }
 ],
 "metadata": {
  "kernelspec": {
   "display_name": "cem",
   "language": "python",
   "name": "python3"
  },
  "language_info": {
   "codemirror_mode": {
    "name": "ipython",
    "version": 3
   },
   "file_extension": ".py",
   "mimetype": "text/x-python",
   "name": "python",
   "nbconvert_exporter": "python",
   "pygments_lexer": "ipython3",
   "version": "3.7.16"
  },
  "orig_nbformat": 4
 },
 "nbformat": 4,
 "nbformat_minor": 2
}
