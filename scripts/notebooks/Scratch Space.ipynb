{
 "cells": [
  {
   "cell_type": "code",
   "execution_count": 1,
   "id": "6903c855",
   "metadata": {},
   "outputs": [],
   "source": [
    "%load_ext autoreload\n",
    "%autoreload 2"
   ]
  },
  {
   "cell_type": "code",
   "execution_count": 2,
   "id": "2d2abcda",
   "metadata": {},
   "outputs": [],
   "source": [
    "import sys\n",
    "sys.path.append('/usr0/home/naveenr/projects/spurious_concepts/ConceptBottleneck/')\n",
    "sys.path.append('/usr0/home/naveenr/projects/spurious_concepts')"
   ]
  },
  {
   "cell_type": "code",
   "execution_count": 3,
   "id": "863807d7",
   "metadata": {},
   "outputs": [],
   "source": [
    "import torch\n",
    "from sklearn.metrics import roc_auc_score\n",
    "from sklearn.neural_network import MLPClassifier\n",
    "import torch.nn as nn\n",
    "import torch.optim as optim\n",
    "import pickle\n",
    "import matplotlib.pyplot as plt\n",
    "import torch.nn.functional as F\n",
    "from PIL import Image\n",
    "from matplotlib.colors import LinearSegmentedColormap\n",
    "from copy import copy \n",
    "import itertools\n",
    "import json\n",
    "import argparse \n",
    "import resource"
   ]
  },
  {
   "cell_type": "code",
   "execution_count": 4,
   "id": "4f35f2e7",
   "metadata": {},
   "outputs": [],
   "source": [
    "from src.images import *\n",
    "from src.util import *\n",
    "from src.models import *\n",
    "from src.plot import *"
   ]
  },
  {
   "cell_type": "code",
   "execution_count": 5,
   "id": "124191be",
   "metadata": {},
   "outputs": [],
   "source": [
    "from CUB.template_model import InceptionAux, FC, End2EndModel, MLP"
   ]
  },
  {
   "cell_type": "code",
   "execution_count": 6,
   "id": "e0d6d5ae",
   "metadata": {},
   "outputs": [],
   "source": [
    "torch.cuda.set_per_process_memory_fraction(0.5)\n",
    "resource.setrlimit(resource.RLIMIT_AS, (30 * 1024 * 1024 * 1024, -1))\n",
    "torch.set_num_threads(1)"
   ]
  },
  {
   "cell_type": "markdown",
   "id": "1373f139",
   "metadata": {},
   "source": [
    "## CLIP"
   ]
  },
  {
   "cell_type": "code",
   "execution_count": 10,
   "id": "2e5e0802",
   "metadata": {},
   "outputs": [
    {
     "name": "stderr",
     "output_type": "stream",
     "text": [
      "100%|███████████████████████████████████████| 338M/338M [00:06<00:00, 54.4MiB/s]\n"
     ]
    }
   ],
   "source": [
    "import torch\n",
    "import clip\n",
    "from PIL import Image\n",
    "\n",
    "# Load the model\n",
    "device = \"cuda\" if torch.cuda.is_available() else \"cpu\"\n",
    "model, preprocess = clip.load(\"ViT-B/32\", device=device)"
   ]
  },
  {
   "cell_type": "code",
   "execution_count": 18,
   "id": "9712d2e7",
   "metadata": {},
   "outputs": [
    {
     "name": "stdout",
     "output_type": "stream",
     "text": [
      "tensor([[0.3535, 0.3362, 0.3103]], device='cuda:0', dtype=torch.float16)\n"
     ]
    }
   ],
   "source": [
    "# Load and preprocess the image\n",
    "image = preprocess(Image.open(\"../../../../datasets/CUB/images/100.Brown_Pelican/Brown_Pelican_0141_94533.jpg\")).unsqueeze(0).to(device)\n",
    "\n",
    "# Define your text prompts\n",
    "text = clip.tokenize([\"this is a pelican\",\"this is a bird\", \"this is a chair\"]).to(device)\n",
    "\n",
    "# Generate embeddings\n",
    "with torch.no_grad():\n",
    "    image_features = model.encode_image(image)\n",
    "    text_features = model.encode_text(text)\n",
    "\n",
    "# Normalize the embeddings\n",
    "image_features /= image_features.norm(dim=-1, keepdim=True)\n",
    "text_features /= text_features.norm(dim=-1, keepdim=True)\n",
    "\n",
    "# Calculate similarity\n",
    "similarity = (image_features @ text_features.T).softmax(dim=-1)\n",
    "print(similarity)\n"
   ]
  },
  {
   "cell_type": "markdown",
   "id": "4de0db99",
   "metadata": {},
   "source": [
    "## Set up dataset + model"
   ]
  },
  {
   "cell_type": "code",
   "execution_count": 6,
   "metadata": {},
   "outputs": [
    {
     "name": "stdout",
     "output_type": "stream",
     "text": [
      "{'seed': 44, 'encoder_model': 'small7', 'epochs': 50, 'num_attributes': 4, 'expand_dim_encoder': 0, 'num_middle_encoder': 0, 'debugging': False, 'dataset': 'synthetic_object/synthetic_2', 'weight_decay': 0.0004, 'lr': 0.05, 'model_type': 'joint'}\n"
     ]
    }
   ],
   "source": [
    "is_jupyter = 'ipykernel' in sys.modules\n",
    "if is_jupyter:\n",
    "    num_objects = 2\n",
    "    encoder_model='small7'\n",
    "    seed = 44\n",
    "    epochs = 50\n",
    "    expand_dim_encoder = 0\n",
    "    num_middle_encoder = 0\n",
    "    train_variation = 'none'\n",
    "    scale_factor = 1.5\n",
    "    scale_lr = 5\n",
    "    model_type = 'joint'\n",
    "    noisy = False \n",
    "    weight_decay = 0.0004\n",
    "    lr = 0.05\n",
    "else:\n",
    "    parser = argparse.ArgumentParser(description=\"Synthetic Dataset Experiments\")\n",
    "\n",
    "\n",
    "    parser.add_argument('--num_objects', type=int, default=2, help='Number of objects')\n",
    "    parser.add_argument('--encoder_model', type=str, default='inceptionv3', help='Encoder model')\n",
    "    parser.add_argument('--seed', type=int, default=42, help='Random seed')\n",
    "    parser.add_argument('--epochs', type=int, default=50, help='Number of epochs')\n",
    "    parser.add_argument('--expand_dim_encoder', type=int, default=0, help='For MLPs, size of the middle layer')\n",
    "    parser.add_argument('--num_middle_encoder', type=int, default=0, help='For MLPs, number of middle layers')\n",
    "    parser.add_argument('--train_variation', type=str, default='none', help='Either \"none\", \"loss\", or \"half\"')\n",
    "    parser.add_argument('--scale_lr', type=int, default=5, help='For the half train variation, how much to decrease LR by')\n",
    "    parser.add_argument('--scale_factor', type=float, default=1.5, help='For the loss train variation, how much to scale loss by')\n",
    "    parser.add_argument('--model_type', type=str, default='joint', help='\"joint\" or \"independent\" model')\n",
    "    parser.add_argument('--noisy', dest='noisy',default=False,action='store_true')\n",
    "    parser.add_argument('--weight_decay', default=0.0004,type=float,help=\"What weight decay to use\")\n",
    "    parser.add_argument('--lr', type=float, default=0.05, help='Learning Rate')\n",
    "\n",
    "    args = parser.parse_args()\n",
    "    num_objects = args.num_objects\n",
    "    encoder_model = args.encoder_model \n",
    "    seed = args.seed \n",
    "    epochs = args.epochs \n",
    "    expand_dim_encoder = args.expand_dim_encoder\n",
    "    num_middle_encoder = args.num_middle_encoder\n",
    "    train_variation = args.train_variation \n",
    "    scale_factor = args.scale_factor \n",
    "    scale_lr = args.scale_lr \n",
    "    model_type = args.model_type \n",
    "    noisy = args.noisy\n",
    "    weight_decay = args.weight_decay \n",
    "    lr = args.lr \n",
    "\n",
    "if noisy:\n",
    "    dataset_name = \"synthetic_object/synthetic_{}_noisy\".format(num_objects)\n",
    "else:\n",
    "    dataset_name = \"synthetic_object/synthetic_{}\".format(num_objects)\n",
    "\n",
    "parameters = {\n",
    "    'seed': seed, \n",
    "    'encoder_model': encoder_model ,\n",
    "    'epochs': epochs, \n",
    "    'num_attributes': num_objects*2,\n",
    "    'expand_dim_encoder': expand_dim_encoder, \n",
    "    'num_middle_encoder': num_middle_encoder, \n",
    "    'debugging': False,\n",
    "    'dataset': dataset_name,\n",
    "    'weight_decay': weight_decay, \n",
    "    'lr': lr, \n",
    "}\n",
    "\n",
    "if train_variation != 'none':\n",
    "    parameters['train_variation'] = train_variation \n",
    "\n",
    "    if train_variation == 'half':\n",
    "        parameters['scale_lr'] = scale_lr \n",
    "    elif train_variation == 'loss':\n",
    "        parameters['scale_factor'] = scale_factor \n",
    "\n",
    "parameters['model_type'] = model_type \n",
    "\n",
    "print(parameters)\n",
    "torch.cuda.set_per_process_memory_fraction(0.5)\n",
    "\n"
   ]
  },
  {
   "cell_type": "code",
   "execution_count": 7,
   "id": "330ceefc",
   "metadata": {},
   "outputs": [
    {
     "data": {
      "text/plain": [
       "<torch._C.Generator at 0x7f71d41be4b0>"
      ]
     },
     "execution_count": 7,
     "metadata": {},
     "output_type": "execute_result"
    }
   ],
   "source": [
    "np.random.seed(seed)\n",
    "torch.manual_seed(seed)"
   ]
  },
  {
   "cell_type": "code",
   "execution_count": 8,
   "id": "aaf2b973",
   "metadata": {},
   "outputs": [],
   "source": [
    "train_loader, val_loader, test_loader, train_pkl, val_pkl, test_pkl = get_data(num_objects,encoder_model=encoder_model,dataset_name=dataset_name)"
   ]
  },
  {
   "cell_type": "code",
   "execution_count": 9,
   "metadata": {},
   "outputs": [],
   "source": [
    "test_images, test_y, test_c = unroll_data(test_loader)"
   ]
  },
  {
   "cell_type": "code",
   "execution_count": 10,
   "metadata": {},
   "outputs": [],
   "source": [
    "log_folder = get_log_folder(dataset_name,parameters).split(\"/\")[-1]\n",
    "results_folder = \"../../results/synthetic/{}\".format(log_folder)\n",
    "if not os.path.exists(results_folder): \n",
    "    os.makedirs(results_folder)"
   ]
  },
  {
   "cell_type": "code",
   "execution_count": 11,
   "metadata": {},
   "outputs": [],
   "source": [
    "device = 'cuda' if torch.cuda.is_available() else 'cpu'"
   ]
  },
  {
   "cell_type": "code",
   "execution_count": 182,
   "id": "703e94e6",
   "metadata": {},
   "outputs": [],
   "source": [
    "joint_model = End2EndModel(EqualReceptiveFieldN(2,7,aux_logits=True,\n",
    "                            n_attributes=4, bottleneck=True, expand_dim=4),  MLP(input_dim=4, num_classes=2, expand_dim=4), False, False, 2)"
   ]
  },
  {
   "cell_type": "code",
   "execution_count": 177,
   "id": "8abab6c6",
   "metadata": {},
   "outputs": [],
   "source": [
    "joint_model = get_synthetic_model(dataset_name,parameters)"
   ]
  },
  {
   "cell_type": "code",
   "execution_count": 183,
   "id": "66863db5",
   "metadata": {},
   "outputs": [
    {
     "data": {
      "text/plain": [
       "End2EndModel(\n",
       "  (first_model): EqualReceptiveFieldN(\n",
       "    (conv_layers): ModuleList(\n",
       "      (0): Conv2d(3, 128, kernel_size=(3, 3), stride=(1, 1), padding=(1, 1))\n",
       "      (1): Conv2d(128, 256, kernel_size=(3, 3), stride=(1, 1), padding=(1, 1))\n",
       "      (2): Conv2d(256, 512, kernel_size=(3, 3), stride=(1, 1), padding=(1, 1))\n",
       "      (3): Conv2d(512, 1024, kernel_size=(3, 3), stride=(1, 1), padding=(1, 1))\n",
       "      (4): Conv2d(1024, 1024, kernel_size=(3, 3), stride=(1, 1), padding=(1, 1))\n",
       "      (5): Conv2d(1024, 1024, kernel_size=(3, 3), stride=(1, 1), padding=(1, 1))\n",
       "      (6): Conv2d(1024, 1024, kernel_size=(3, 3), stride=(1, 1), padding=(1, 1))\n",
       "    )\n",
       "    (pool): MaxPool2d(kernel_size=2, stride=2, padding=0, dilation=1, ceil_mode=False)\n",
       "    (all_fc): ModuleList(\n",
       "      (0): FC(\n",
       "        (relu): ReLU()\n",
       "        (fc_new): Linear(in_features=2048, out_features=4, bias=True)\n",
       "        (fc): Linear(in_features=4, out_features=1, bias=True)\n",
       "      )\n",
       "      (1): FC(\n",
       "        (relu): ReLU()\n",
       "        (fc_new): Linear(in_features=2048, out_features=4, bias=True)\n",
       "        (fc): Linear(in_features=4, out_features=1, bias=True)\n",
       "      )\n",
       "      (2): FC(\n",
       "        (relu): ReLU()\n",
       "        (fc_new): Linear(in_features=2048, out_features=4, bias=True)\n",
       "        (fc): Linear(in_features=4, out_features=1, bias=True)\n",
       "      )\n",
       "      (3): FC(\n",
       "        (relu): ReLU()\n",
       "        (fc_new): Linear(in_features=2048, out_features=4, bias=True)\n",
       "        (fc): Linear(in_features=4, out_features=1, bias=True)\n",
       "      )\n",
       "    )\n",
       "    (AuxLogits): InceptionAux(\n",
       "      (conv0): BasicConv2d(\n",
       "        (conv): Conv2d(768, 128, kernel_size=(1, 1), stride=(1, 1), bias=False)\n",
       "        (bn): BatchNorm2d(128, eps=0.001, momentum=0.1, affine=True, track_running_stats=True)\n",
       "      )\n",
       "      (conv1): BasicConv2d(\n",
       "        (conv): Conv2d(128, 768, kernel_size=(5, 5), stride=(1, 1), bias=False)\n",
       "        (bn): BatchNorm2d(768, eps=0.001, momentum=0.1, affine=True, track_running_stats=True)\n",
       "      )\n",
       "      (all_fc): ModuleList(\n",
       "        (0): FC(\n",
       "          (relu): ReLU()\n",
       "          (fc_new): Linear(in_features=768, out_features=4, bias=True)\n",
       "          (fc): Linear(in_features=4, out_features=1, bias=True)\n",
       "        )\n",
       "        (1): FC(\n",
       "          (relu): ReLU()\n",
       "          (fc_new): Linear(in_features=768, out_features=4, bias=True)\n",
       "          (fc): Linear(in_features=4, out_features=1, bias=True)\n",
       "        )\n",
       "        (2): FC(\n",
       "          (relu): ReLU()\n",
       "          (fc_new): Linear(in_features=768, out_features=4, bias=True)\n",
       "          (fc): Linear(in_features=4, out_features=1, bias=True)\n",
       "        )\n",
       "        (3): FC(\n",
       "          (relu): ReLU()\n",
       "          (fc_new): Linear(in_features=768, out_features=4, bias=True)\n",
       "          (fc): Linear(in_features=4, out_features=1, bias=True)\n",
       "        )\n",
       "      )\n",
       "    )\n",
       "  )\n",
       "  (sec_model): MLP(\n",
       "    (linear): Linear(in_features=4, out_features=4, bias=True)\n",
       "    (activation): ReLU()\n",
       "    (linear2): Linear(in_features=4, out_features=2, bias=True)\n",
       "  )\n",
       ")"
      ]
     },
     "execution_count": 183,
     "metadata": {},
     "output_type": "execute_result"
    }
   ],
   "source": [
    "joint_model"
   ]
  },
  {
   "cell_type": "code",
   "execution_count": 170,
   "id": "fe4daed6",
   "metadata": {},
   "outputs": [],
   "source": [
    "class EqualReceptiveFieldN(nn.Module):\n",
    "    def __init__(self, num_classes, num_layers,aux_logits=True, transform_input=False, \n",
    "                 n_attributes=0, bottleneck=False, expand_dim=0, \n",
    "                 three_class=False, connect_CY=False):\n",
    "        super(EqualReceptiveFieldN, self).__init__()\n",
    "        self.conv_layers = nn.ModuleList()\n",
    "        channels = 512\n",
    "        for i in range(num_layers):\n",
    "            in_channels = 3 if i == 0 else 2**(i+6)\n",
    "            out_channels = 2**(i+7) \n",
    "            in_channels = min(in_channels,1024)\n",
    "            out_channels = min(out_channels,1024)\n",
    "            if i == 0:\n",
    "                conv_layer = nn.Conv2d(in_channels, out_channels, kernel_size=15-2*(num_layers-1), stride=1, padding=1)\n",
    "            else:\n",
    "                conv_layer = nn.Conv2d(in_channels, out_channels, kernel_size=3, stride=1, padding=1)\n",
    "            self.conv_layers.append(conv_layer)\n",
    "\n",
    "        self.pool = nn.MaxPool2d(kernel_size=2, stride=2)\n",
    "        self.input_size = 256\n",
    "\n",
    "        dataset = \"synthetic\"\n",
    "\n",
    "        if n_attributes == 112:\n",
    "            dataset = \"cub\"\n",
    "        elif n_attributes == 15:\n",
    "            dataset = \"coco\"\n",
    "\n",
    "        # Calculate the output size of the last conv layer before the linear layer\n",
    "        first_num = min(512,256*2**(num_layers-3))\n",
    "        \n",
    "        if dataset == \"cub\" or dataset == \"coco\":\n",
    "            second_num = 37//(2**(num_layers-3))\n",
    "        elif dataset == \"synthetic\":\n",
    "            second_num = 32//(2**(num_layers-3))\n",
    "        else:\n",
    "            second_num = 32//(2**(num_layers-3))\n",
    "        self.conv_output_size = first_num*second_num**2\n",
    "\n",
    "        self.all_fc = nn.ModuleList()\n",
    "        \n",
    "        self.aux_logits = aux_logits\n",
    "        self.transform_input = transform_input\n",
    "        self.n_attributes = n_attributes\n",
    "        self.bottleneck = bottleneck\n",
    "        if aux_logits:\n",
    "            self.AuxLogits = InceptionAux(768, num_classes, n_attributes=self.n_attributes, bottleneck=bottleneck, \\\n",
    "                                                expand_dim=expand_dim, three_class=three_class, connect_CY=connect_CY)\n",
    "\n",
    "        if connect_CY:\n",
    "            self.cy_fc = FC(n_attributes, num_classes, expand_dim)\n",
    "        else:\n",
    "            self.cy_fc = None\n",
    "\n",
    "            \n",
    "        if self.n_attributes > 0:\n",
    "            if not bottleneck: #multitasking\n",
    "                self.all_fc.append(FC(self.conv_output_size, num_classes, expand_dim))\n",
    "            for i in range(self.n_attributes):\n",
    "                self.all_fc.append(FC(self.conv_output_size, 1, expand_dim))\n",
    "        else:\n",
    "            self.all_fc.append(FC(self.conv_output_size, num_classes, expand_dim))\n",
    "\n",
    "    def forward(self, x,binary=False):\n",
    "        for conv_layer in self.conv_layers:\n",
    "            x = self.pool(torch.relu(conv_layer(x)))        \n",
    "        self.last_conv_output = x\n",
    "\n",
    "        # Flatten the tensor before passing it through the fully connected layers\n",
    "        x = x.view(-1, self.conv_output_size)\n",
    "        self.output_before_fc = x\n",
    "\n",
    "        out = []\n",
    "        for fc in self.all_fc:\n",
    "            out.append(fc(x))\n",
    "        if self.n_attributes > 0 and not self.bottleneck and self.cy_fc is not None:\n",
    "            attr_preds = torch.cat(out[1:], dim=1)\n",
    "            if binary:\n",
    "                attr_preds = torch.round(attr_preds).float()\n",
    "            \n",
    "            out[0] += self.cy_fc(attr_preds)\n",
    "        if self.training and self.aux_logits:\n",
    "            return out, out\n",
    "        else:\n",
    "            return out\n"
   ]
  },
  {
   "cell_type": "code",
   "execution_count": 171,
   "id": "0fe5fac2",
   "metadata": {},
   "outputs": [],
   "source": [
    "def get_receptive_field(model):\n",
    "    # Initialize input size\n",
    "    input_size = (1, 3, 224, 224)  # Example input size (batch_size, channels, height, width)\n",
    "    receptive_field = 1\n",
    "    \n",
    "    # Track input size through layers\n",
    "    with torch.no_grad():\n",
    "        for module in model.modules():\n",
    "            if isinstance(module, nn.Conv2d):\n",
    "                kernel_size = module.kernel_size[0]  # Assuming square kernels\n",
    "                stride = module.stride[0]  # Assuming square stride\n",
    "                dilation = module.dilation[0]  # Assuming square dilation\n",
    "                receptive_field += (kernel_size - 1) * dilation\n",
    "                receptive_field *= stride\n",
    "            elif isinstance(module, nn.MaxPool2d):\n",
    "                kernel_size = module.kernel_size  # Assuming square kernels\n",
    "                stride = module.stride  # Assuming square stride\n",
    "                receptive_field *= stride\n",
    "            elif isinstance(module, nn.ConvTranspose2d):\n",
    "                kernel_size = module.kernel_size[0]  # Assuming square kernels\n",
    "                stride = module.stride[0]  # Assuming square stride\n",
    "                receptive_field += (kernel_size - 1) * stride\n",
    "            elif isinstance(module, nn.Upsample):\n",
    "                scale_factor = module.scale_factor\n",
    "                receptive_field *= scale_factor\n",
    "                \n",
    "    return receptive_field\n"
   ]
  },
  {
   "cell_type": "code",
   "execution_count": 172,
   "metadata": {},
   "outputs": [
    {
     "data": {
      "text/plain": [
       "34"
      ]
     },
     "execution_count": 172,
     "metadata": {},
     "output_type": "execute_result"
    }
   ],
   "source": [
    "K = [11,3,3]\n",
    "6+np.sum(2*(np.array(K)-1))"
   ]
  },
  {
   "cell_type": "code",
   "execution_count": 173,
   "id": "e51830a1",
   "metadata": {},
   "outputs": [
    {
     "data": {
      "text/plain": [
       "34"
      ]
     },
     "execution_count": 173,
     "metadata": {},
     "output_type": "execute_result"
    }
   ],
   "source": [
    "get_receptive_field(EqualReceptiveFieldN(4,7,aux_logits=True,\n",
    "                            n_attributes=4, bottleneck=True, expand_dim=4))"
   ]
  },
  {
   "cell_type": "code",
   "execution_count": 163,
   "id": "c698a3ec",
   "metadata": {},
   "outputs": [],
   "source": [
    "# cem_location = \"../../cem/results/synthetic/synthetic_2_{}.pth\".format(seed)\n",
    "# probcbm_location = \"../../prob-cbm/cem/results/synthetic/ProbCBM_fold_{}.pth\".format(seed-41)"
   ]
  },
  {
   "cell_type": "code",
   "execution_count": 164,
   "id": "b6f8eb41",
   "metadata": {},
   "outputs": [],
   "source": [
    "# joint_model = torch.load(probcbm_location,map_location='cpu')"
   ]
  },
  {
   "cell_type": "code",
   "execution_count": 165,
   "id": "1e9d413a",
   "metadata": {},
   "outputs": [],
   "source": [
    "# run_model_function = run_probcbm_model\n",
    "run_model_function = run_joint_model"
   ]
  },
  {
   "cell_type": "code",
   "execution_count": 185,
   "id": "ba476851",
   "metadata": {},
   "outputs": [],
   "source": [
    "joint_model = joint_model.to('cuda')"
   ]
  },
  {
   "cell_type": "markdown",
   "id": "bf142098",
   "metadata": {},
   "source": [
    "## Plot the Dataset"
   ]
  },
  {
   "cell_type": "code",
   "execution_count": 133,
   "metadata": {},
   "outputs": [],
   "source": [
    "dataset_directory = \"../../../../datasets\""
   ]
  },
  {
   "cell_type": "code",
   "execution_count": 134,
   "id": "d83949b6",
   "metadata": {},
   "outputs": [
    {
     "data": {
      "text/plain": [
       "<matplotlib.image.AxesImage at 0x7f714d81bad0>"
      ]
     },
     "execution_count": 134,
     "metadata": {},
     "output_type": "execute_result"
    },
    {
     "data": {
      "image/png": "[encoded data removed]",
      "text/plain": [
       "<Figure size 640x480 with 1 Axes>"
      ]
     },
     "metadata": {},
     "output_type": "display_data"
    }
   ],
   "source": [
    "img_path = dataset_directory+'/'+train_pkl[0]['img_path']\n",
    "image = Image.open(img_path)\n",
    "plt.imshow(image)"
   ]
  },
  {
   "cell_type": "markdown",
   "id": "cd315d4c",
   "metadata": {},
   "source": [
    "## Analyze Concept-Input Relationships"
   ]
  },
  {
   "cell_type": "markdown",
   "id": "4e9ef23f",
   "metadata": {},
   "source": [
    "### Maximal Activation"
   ]
  },
  {
   "cell_type": "code",
   "execution_count": 144,
   "id": "646a288c",
   "metadata": {},
   "outputs": [],
   "source": [
    "def numpy_to_pil(img):\n",
    "    mean = np.array([0.5, 0.5, 0.5])\n",
    "    std = np.array([2, 2, 2])\n",
    "\n",
    "    unnormalized_image = img * std[:, np.newaxis, np.newaxis] + mean[:, np.newaxis, np.newaxis]\n",
    "    unnormalized_image = unnormalized_image*255 \n",
    "    unnormalized_image = np.clip(unnormalized_image, 0, 255).astype(np.uint8) \n",
    "    im = Image.fromarray(unnormalized_image.transpose(1,2,0))\n",
    "    return im"
   ]
  },
  {
   "cell_type": "code",
   "execution_count": 186,
   "id": "02e51a87",
   "metadata": {},
   "outputs": [
    {
     "name": "stdout",
     "output_type": "stream",
     "text": [
      "On concept 0\n",
      "Output 0 [tensor([[ 0.3385, -0.0384],\n",
      "        [ 0.3385, -0.0382]], device='cuda:0', grad_fn=<AddmmBackward0>), tensor([[0.2057],\n",
      "        [0.2043]], device='cuda:0', grad_fn=<AddmmBackward0>), tensor([[0.1820],\n",
      "        [0.1822]], device='cuda:0', grad_fn=<AddmmBackward0>), tensor([[0.2795],\n",
      "        [0.2798]], device='cuda:0', grad_fn=<AddmmBackward0>), tensor([[0.1409],\n",
      "        [0.1407]], device='cuda:0', grad_fn=<AddmmBackward0>)] 1 [tensor([[ 0.3385, -0.0384],\n",
      "        [ 0.3385, -0.0382]], device='cuda:0', grad_fn=<AddmmBackward0>), tensor([[0.2057],\n",
      "        [0.2043]], device='cuda:0', grad_fn=<AddmmBackward0>), tensor([[0.1820],\n",
      "        [0.1822]], device='cuda:0', grad_fn=<AddmmBackward0>), tensor([[0.2795],\n",
      "        [0.2798]], device='cuda:0', grad_fn=<AddmmBackward0>), tensor([[0.1409],\n",
      "        [0.1407]], device='cuda:0', grad_fn=<AddmmBackward0>)]\n"
     ]
    },
    {
     "ename": "TypeError",
     "evalue": "expected Tensor as element 0 in argument 0, but got list",
     "output_type": "error",
     "traceback": [
      "\u001b[0;31m---------------------------------------------------------------------------\u001b[0m",
      "\u001b[0;31mTypeError\u001b[0m                                 Traceback (most recent call last)",
      "\u001b[0;32m/tmp/ipykernel_1165414/579587685.py\u001b[0m in \u001b[0;36m<module>\u001b[0;34m\u001b[0m\n\u001b[1;32m     12\u001b[0m \u001b[0;34m\u001b[0m\u001b[0m\n\u001b[1;32m     13\u001b[0m         ret_image = get_maximal_activation(joint_model,run_model_function,concept_num,\n\u001b[0;32m---> 14\u001b[0;31m                                         get_valid_image_function(concept_num,num_objects,epsilon=32),fixed_image=input_image,current_concept_val=current_concept_val).to(device)\n\u001b[0m\u001b[1;32m     15\u001b[0m         \u001b[0mpredicted_concept\u001b[0m \u001b[0;34m=\u001b[0m \u001b[0mtorch\u001b[0m\u001b[0;34m.\u001b[0m\u001b[0mnn\u001b[0m\u001b[0;34m.\u001b[0m\u001b[0mSigmoid\u001b[0m\u001b[0;34m(\u001b[0m\u001b[0;34m)\u001b[0m\u001b[0;34m(\u001b[0m\u001b[0mrun_model_function\u001b[0m\u001b[0;34m(\u001b[0m\u001b[0mjoint_model\u001b[0m\u001b[0;34m,\u001b[0m\u001b[0mret_image\u001b[0m\u001b[0;34m)\u001b[0m\u001b[0;34m[\u001b[0m\u001b[0;36m1\u001b[0m\u001b[0;34m]\u001b[0m\u001b[0;34m.\u001b[0m\u001b[0mdetach\u001b[0m\u001b[0;34m(\u001b[0m\u001b[0;34m)\u001b[0m\u001b[0;34m.\u001b[0m\u001b[0mcpu\u001b[0m\u001b[0;34m(\u001b[0m\u001b[0;34m)\u001b[0m\u001b[0;34m)\u001b[0m\u001b[0;34m[\u001b[0m\u001b[0mconcept_num\u001b[0m\u001b[0;34m]\u001b[0m\u001b[0;34m[\u001b[0m\u001b[0;36m0\u001b[0m\u001b[0;34m]\u001b[0m\u001b[0;34m.\u001b[0m\u001b[0mdetach\u001b[0m\u001b[0;34m(\u001b[0m\u001b[0;34m)\u001b[0m\u001b[0;34m.\u001b[0m\u001b[0mnumpy\u001b[0m\u001b[0;34m(\u001b[0m\u001b[0;34m)\u001b[0m\u001b[0;34m\u001b[0m\u001b[0;34m\u001b[0m\u001b[0m\n\u001b[1;32m     16\u001b[0m \u001b[0;34m\u001b[0m\u001b[0m\n",
      "\u001b[0;32m~/miniconda3/envs/concepts/lib/python3.7/site-packages/src/models.py\u001b[0m in \u001b[0;36mget_maximal_activation\u001b[0;34m(model, model_function, concept_num, fix_image, lamb, image_size, fixed_image, current_concept_val)\u001b[0m\n\u001b[1;32m    508\u001b[0m     \u001b[0;32mfor\u001b[0m \u001b[0m_\u001b[0m \u001b[0;32min\u001b[0m \u001b[0mrange\u001b[0m\u001b[0;34m(\u001b[0m\u001b[0mnum_steps\u001b[0m\u001b[0;34m)\u001b[0m\u001b[0;34m:\u001b[0m\u001b[0;34m\u001b[0m\u001b[0;34m\u001b[0m\u001b[0m\n\u001b[1;32m    509\u001b[0m         \u001b[0moptimizer\u001b[0m\u001b[0;34m.\u001b[0m\u001b[0mzero_grad\u001b[0m\u001b[0;34m(\u001b[0m\u001b[0;34m)\u001b[0m\u001b[0;34m\u001b[0m\u001b[0;34m\u001b[0m\u001b[0m\n\u001b[0;32m--> 510\u001b[0;31m         \u001b[0m_\u001b[0m\u001b[0;34m,\u001b[0m\u001b[0mc_pred\u001b[0m \u001b[0;34m=\u001b[0m \u001b[0mmodel_function\u001b[0m\u001b[0;34m(\u001b[0m\u001b[0mmodel\u001b[0m\u001b[0;34m,\u001b[0m\u001b[0minput_image\u001b[0m\u001b[0;34m.\u001b[0m\u001b[0mto\u001b[0m\u001b[0;34m(\u001b[0m\u001b[0mdevice\u001b[0m\u001b[0;34m)\u001b[0m\u001b[0;34m,\u001b[0m\u001b[0mdetach\u001b[0m\u001b[0;34m=\u001b[0m\u001b[0;32mFalse\u001b[0m\u001b[0;34m)\u001b[0m\u001b[0;34m\u001b[0m\u001b[0;34m\u001b[0m\u001b[0m\n\u001b[0m\u001b[1;32m    511\u001b[0m         \u001b[0m_\u001b[0m \u001b[0;34m=\u001b[0m \u001b[0m_\u001b[0m\u001b[0;34m.\u001b[0m\u001b[0mdetach\u001b[0m\u001b[0;34m(\u001b[0m\u001b[0;34m)\u001b[0m\u001b[0;34m.\u001b[0m\u001b[0mcpu\u001b[0m\u001b[0;34m(\u001b[0m\u001b[0;34m)\u001b[0m\u001b[0;34m\u001b[0m\u001b[0;34m\u001b[0m\u001b[0m\n\u001b[1;32m    512\u001b[0m         \u001b[0mc_pred\u001b[0m \u001b[0;34m=\u001b[0m \u001b[0mc_pred\u001b[0m\u001b[0;34m\u001b[0m\u001b[0;34m\u001b[0m\u001b[0m\n",
      "\u001b[0;32m~/miniconda3/envs/concepts/lib/python3.7/site-packages/src/models.py\u001b[0m in \u001b[0;36mrun_joint_model\u001b[0;34m(model, x, detach)\u001b[0m\n\u001b[1;32m     34\u001b[0m     \u001b[0mprint\u001b[0m\u001b[0;34m(\u001b[0m\u001b[0;34m\"Output 0 {} 1 {}\"\u001b[0m\u001b[0;34m.\u001b[0m\u001b[0mformat\u001b[0m\u001b[0;34m(\u001b[0m\u001b[0moutput\u001b[0m\u001b[0;34m[\u001b[0m\u001b[0;36m0\u001b[0m\u001b[0;34m]\u001b[0m\u001b[0;34m,\u001b[0m\u001b[0moutput\u001b[0m\u001b[0;34m[\u001b[0m\u001b[0;36m1\u001b[0m\u001b[0;34m]\u001b[0m\u001b[0;34m)\u001b[0m\u001b[0;34m)\u001b[0m\u001b[0;34m\u001b[0m\u001b[0;34m\u001b[0m\u001b[0m\n\u001b[1;32m     35\u001b[0m     \u001b[0my_pred\u001b[0m \u001b[0;34m=\u001b[0m \u001b[0moutput\u001b[0m\u001b[0;34m[\u001b[0m\u001b[0;36m0\u001b[0m\u001b[0;34m]\u001b[0m\u001b[0;34m\u001b[0m\u001b[0;34m\u001b[0m\u001b[0m\n\u001b[0;32m---> 36\u001b[0;31m     \u001b[0mc_pred\u001b[0m \u001b[0;34m=\u001b[0m \u001b[0mtorch\u001b[0m\u001b[0;34m.\u001b[0m\u001b[0mstack\u001b[0m\u001b[0;34m(\u001b[0m\u001b[0moutput\u001b[0m\u001b[0;34m[\u001b[0m\u001b[0;36m1\u001b[0m\u001b[0;34m:\u001b[0m\u001b[0;34m]\u001b[0m\u001b[0;34m)\u001b[0m\u001b[0;34m.\u001b[0m\u001b[0msqueeze\u001b[0m\u001b[0;34m(\u001b[0m\u001b[0;34m-\u001b[0m\u001b[0;36m1\u001b[0m\u001b[0;34m)\u001b[0m\u001b[0;34m\u001b[0m\u001b[0;34m\u001b[0m\u001b[0m\n\u001b[0m\u001b[1;32m     37\u001b[0m \u001b[0;34m\u001b[0m\u001b[0m\n\u001b[1;32m     38\u001b[0m     \u001b[0;32mreturn\u001b[0m \u001b[0my_pred\u001b[0m\u001b[0;34m,\u001b[0m \u001b[0mc_pred\u001b[0m\u001b[0;34m\u001b[0m\u001b[0;34m\u001b[0m\u001b[0m\n",
      "\u001b[0;31mTypeError\u001b[0m: expected Tensor as element 0 in argument 0, but got list"
     ]
    },
    {
     "ename": "",
     "evalue": "",
     "output_type": "error",
     "traceback": [
      "\u001b[1;31mThe Kernel crashed while executing code in the current cell or a previous cell. \n",
      "\u001b[1;31mPlease review the code in the cell(s) to identify a possible cause of the failure. \n",
      "\u001b[1;31mClick <a href='https://aka.ms/vscodeJupyterKernelCrash'>here</a> for more info. \n",
      "\u001b[1;31mView Jupyter <a href='command:jupyter.viewOutput'>log</a> for further details."
     ]
    }
   ],
   "source": [
    "activation_values = []\n",
    "\n",
    "for concept_num in range(num_objects*2):\n",
    "    print(\"On concept {}\".format(concept_num))\n",
    "    val_for_concept = 0\n",
    "    trials = 5\n",
    "\n",
    "    for _ in range(trials):\n",
    "        data_point = random.randint(0,len(test_images)-1)\n",
    "        input_image = deepcopy(test_images[data_point:data_point+1])\n",
    "        current_concept_val = test_c[data_point][concept_num]\n",
    "\n",
    "        ret_image = get_maximal_activation(joint_model,run_model_function,concept_num,\n",
    "                                        get_valid_image_function(concept_num,num_objects,epsilon=32),fixed_image=input_image,current_concept_val=current_concept_val).to(device)\n",
    "        predicted_concept = torch.nn.Sigmoid()(run_model_function(joint_model,ret_image)[1].detach().cpu())[concept_num][0].detach().numpy()\n",
    "        \n",
    "        val_for_concept += abs(predicted_concept-current_concept_val.detach().numpy())/trials \n",
    "        ret_image = ret_image.detach()[0].cpu().numpy()\n",
    "        im = numpy_to_pil(ret_image) \n",
    "        plt.imshow(im)\n",
    "        im.save(\"{}/{}.png\".format(results_folder,\"adversarial_{}\".format(concept_num)))\n",
    "    activation_values.append(val_for_concept)\n"
   ]
  },
  {
   "cell_type": "code",
   "execution_count": 20,
   "metadata": {},
   "outputs": [],
   "source": [
    "if model_type == 'independent':\n",
    "    joint_model[0] = joint_model[0].cpu()\n",
    "    joint_model[1] = joint_model[1].cpu() \n",
    "else: \n",
    "    joint_model = joint_model.cpu()\n",
    "torch.cuda.empty_cache()"
   ]
  },
  {
   "cell_type": "markdown",
   "id": "1741d122",
   "metadata": {},
   "source": [
    "## Analyze Saliency Maps"
   ]
  },
  {
   "cell_type": "code",
   "execution_count": 21,
   "id": "2dcfd35f",
   "metadata": {},
   "outputs": [],
   "source": [
    "final_data = {\n",
    "    'adversarial_activations': np.array(activation_values).tolist(),  \n",
    "    'parameters': parameters, \n",
    "    'run_name': log_folder,\n",
    "}"
   ]
  },
  {
   "cell_type": "code",
   "execution_count": 23,
   "id": "3dc98d3b",
   "metadata": {},
   "outputs": [],
   "source": [
    "json.dump(final_data,open(\"../../results/probcbm_results/probcbm_{}.json\".format(seed-41),\"w\"))"
   ]
  },
  {
   "cell_type": "code",
   "execution_count": null,
   "id": "dd1d70f2",
   "metadata": {},
   "outputs": [],
   "source": []
  }
 ],
 "metadata": {
  "kernelspec": {
   "display_name": "Python 3 (ipykernel)",
   "language": "python",
   "name": "python3"
  },
  "language_info": {
   "codemirror_mode": {
    "name": "ipython",
    "version": 3
   },
   "file_extension": ".py",
   "mimetype": "text/x-python",
   "name": "python",
   "nbconvert_exporter": "python",
   "pygments_lexer": "ipython3",
   "version": "3.7.16"
  }
 },
 "nbformat": 4,
 "nbformat_minor": 5
}
